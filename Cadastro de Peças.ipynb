{
 "cells": [
  {
   "cell_type": "markdown",
   "id": "532131f5",
   "metadata": {},
   "source": [
    "# Cadastro de Peças"
   ]
  },
  {
   "cell_type": "code",
   "execution_count": null,
   "id": "3657e035",
   "metadata": {},
   "outputs": [
    {
     "name": "stdout",
     "output_type": "stream",
     "text": [
      "============ YTEC ============\n",
      "----- Cadastro de Peças -----\n",
      "==============================\n"
     ]
    }
   ],
   "source": [
    "print ('='*12, \"YTEC\", '='*12)\n",
    "print ('-'*5, \"Cadastro de Peças\", '-'*5)\n",
    "print (\"=\"*30)\n",
    "\n",
    "add_pecas = int(input('\\nQuantos peças deseja cadastrar?: '))\n",
    "est_atual = []\n",
    "\n",
    "for est_novo in range (add_pecas):\n",
    "    cat_nova = input(\"\\nPEÇA: \").upper().strip()\n",
    "    cod_add = input(\"CÓDIGO: \").upper().strip()\n",
    "    mod_add = input ('MODELO: ').upper().strip()\n",
    "    qtd_add = int(input(\"QTDE: \"))\n",
    "    cod_novo = [cat_nova, cod_add, mod_add, qtd_add]\n",
    "    est_atual.append(cod_novo)"
   ]
  },
  {
   "cell_type": "code",
   "execution_count": 2,
   "id": "644635cd",
   "metadata": {},
   "outputs": [
    {
     "name": "stdout",
     "output_type": "stream",
     "text": [
      "\n",
      "\n",
      "================== ATUALIZAÇÃO ==================\n",
      "|     PEÇA      |   CÓDIGO   |   MODELO   | QTD |\n",
      "-------------------------------------------------\n",
      "|PLM            | Y93-12314  |    Y93     |   10|\n",
      "|BATERIA        | Y20-32145  |   Y2000    |    8|\n",
      "-------------------------------------------------\n",
      "Peça(s) cadastrada(s) com sucesso!\n"
     ]
    }
   ],
   "source": [
    "print ('\\n')\n",
    "print ('='*18,\"ATUALIZAÇÃO\",'='*18)\n",
    "print ('|     PEÇA      |   CÓDIGO   |   MODELO   | QTD |')\n",
    "print (\"-\"*49)\n",
    "for i in est_atual:\n",
    "    indice = est_atual.index(i)\n",
    "    texto = \"|{:<15}|{:^12}|{:^12}|{:>5}|\"\n",
    "    print (texto.format(est_atual[indice][0], est_atual[indice][1], est_atual[indice][2], est_atual[indice][3]))\n",
    "print (\"-\"*49)\n",
    "print ('Peça(s) cadastrada(s) com sucesso!') "
   ]
  }
 ],
 "metadata": {
  "kernelspec": {
   "display_name": "Python 3",
   "language": "python",
   "name": "python3"
  },
  "language_info": {
   "codemirror_mode": {
    "name": "ipython",
    "version": 3
   },
   "file_extension": ".py",
   "mimetype": "text/x-python",
   "name": "python",
   "nbconvert_exporter": "python",
   "pygments_lexer": "ipython3",
   "version": "3.6.13"
  }
 },
 "nbformat": 4,
 "nbformat_minor": 5
}
