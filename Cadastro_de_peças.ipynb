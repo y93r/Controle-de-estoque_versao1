{
  "nbformat": 4,
  "nbformat_minor": 0,
  "metadata": {
    "colab": {
      "name": "Cadastro de peças.ipynb",
      "provenance": [],
      "collapsed_sections": [],
      "authorship_tag": "ABX9TyPiH6rYCb7E2ZVQaeg9Ias0",
      "include_colab_link": true
    },
    "kernelspec": {
      "name": "python3",
      "display_name": "Python 3"
    },
    "language_info": {
      "name": "python"
    }
  },
  "cells": [
    {
      "cell_type": "markdown",
      "metadata": {
        "id": "view-in-github",
        "colab_type": "text"
      },
      "source": [
        "<a href=\"https://colab.research.google.com/github/y93r/Controle-de-estoque_versao1/blob/main/Cadastro_de_pe%C3%A7as.ipynb\" target=\"_parent\"><img src=\"https://colab.research.google.com/assets/colab-badge.svg\" alt=\"Open In Colab\"/></a>"
      ]
    },
    {
      "cell_type": "markdown",
      "source": [
        "## Cadastro de peças"
      ],
      "metadata": {
        "id": "cFHtvjJ2S3qA"
      }
    },
    {
      "cell_type": "code",
      "source": [
        "print ('='*12, \"YTEC\", '='*12)\n",
        "print ('-'*5, \"Cadastro de Peças\", '-'*5)\n",
        "print (\"=\"*30)\n",
        "\n",
        "add_pecas = int(input('\\nQuantos códigos novos deseja cadastrar?: '))\n",
        "est_atual = []\n",
        "\n",
        "for est_novo in range (add_pecas):\n",
        "    cat_nova = input(\"CATEGORIA: \").upper()\n",
        "    cod_add = input(\"CÓDIGO: \").upper()\n",
        "    qtd_add = int(input(\"QTDE: \"))\n",
        "    cod_novo = [cat_nova, cod_add, qtd_add]\n",
        "    est_atual.append(cod_novo)\n",
        "print ('\\n')\n",
        "print ('='*15, \"ATUALIZAÇÃO\", '='*15)\n",
        "for i in est_atual:\n",
        "    indice = est_atual.index(i)\n",
        "    print ('''CATEGORIA: {} |'''.format(est_atual[indice][0]),'''CÓDIGO: {} |'''.format(est_atual[indice][1]),\n",
        "'''QTDE: {} |'''.format(est_atual[indice][2]))"
      ],
      "metadata": {
        "colab": {
          "base_uri": "https://localhost:8080/"
        },
        "id": "U8smG5v0TDfA",
        "outputId": "af0f0901-bcdd-49e2-c8df-5ce8934cffa3"
      },
      "execution_count": null,
      "outputs": [
        {
          "output_type": "stream",
          "name": "stdout",
          "text": [
            "============ YTEC ============\n",
            "----- Cadastro de Peças -----\n",
            "==============================\n",
            "\n",
            "Quantos códigos novos deseja cadastrar?: 3\n",
            "CATEGORIA: plm\n",
            "CÓDIGO: yyyy1111\n",
            "QTDE: 5\n",
            "CATEGORIA: ssd\n",
            "CÓDIGO: yyyy1112\n",
            "QTDE: 7\n",
            "CATEGORIA: lcd\n",
            "CÓDIGO: yyyy1113\n",
            "QTDE: 5\n",
            "\n",
            "\n",
            "=============== ATUALIZAÇÃO ===============\n",
            "CATEGORIA: PLM | CÓDIGO: YYYY1111 | QTDE: 5 |\n",
            "CATEGORIA: SSD | CÓDIGO: YYYY1112 | QTDE: 7 |\n",
            "CATEGORIA: LCD | CÓDIGO: YYYY1113 | QTDE: 5 |\n"
          ]
        }
      ]
    },
    {
      "cell_type": "code",
      "execution_count": null,
      "metadata": {
        "id": "jYPjtcIAS2Ov"
      },
      "outputs": [],
      "source": [
        ""
      ]
    }
  ]
}