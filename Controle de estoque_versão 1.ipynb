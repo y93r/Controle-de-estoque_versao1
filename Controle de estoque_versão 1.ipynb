{
 "cells": [
  {
   "cell_type": "markdown",
   "id": "a14aafeb",
   "metadata": {},
   "source": [
    "## Estoque minimo e máximo"
   ]
  },
  {
   "cell_type": "code",
   "execution_count": 68,
   "id": "d899b485",
   "metadata": {},
   "outputs": [
    {
     "name": "stdout",
     "output_type": "stream",
     "text": [
      "A peça PLM está abaixo do estoque mínimo. Precisamos de mais 8 para ter o estoque completo.\n",
      "A peça Bateria está abaixo do estoque mínimo. Precisamos de mais 9 para ter o estoque completo.\n",
      "A peça Tampa D está abaixo do estoque mínimo. Precisamos de mais 10 para ter o estoque completo.\n",
      "A peça Adaptador está abaixo do estoque mínimo. Precisamos de mais 9 para ter o estoque completo.\n"
     ]
    }
   ],
   "source": [
    "estoque = [2, 5, 1, 5, 4, 0, 5 ,1 ,3]\n",
    "categoria = ['PLM','HD', 'Bateria', 'LCD', 'Tampa C', 'Tampa D', 'Memória', 'Adaptador','SSD']\n",
    "est_min = 3\n",
    "est_max = 10\n",
    "len(categoria)\n",
    "i_peca = -1\n",
    "\n",
    "for i, qtde in enumerate (estoque):\n",
    "    i_peca += 1\n",
    "    if qtde < est_min:\n",
    "        print ('''A peça {} está abaixo do estoque mínimo. Precisamos de mais {} para ter o estoque completo.'''\n",
    ".format(categoria[i_peca], (est_max - qtde)))"
   ]
  },
  {
   "cell_type": "markdown",
   "id": "3d2486fc",
   "metadata": {},
   "source": [
    "# Controle de estoque diário"
   ]
  },
  {
   "cell_type": "code",
   "execution_count": 59,
   "id": "9b2f8aae",
   "metadata": {},
   "outputs": [
    {
     "name": "stdout",
     "output_type": "stream",
     "text": [
      "Produção de 09/06/2022\n",
      "------------------\n",
      "Unidades consumidas de PLM: 6\n",
      "Unidades consumidas de HD: 5\n",
      "Unidades consumidas de BATERIA: 2\n",
      "Unidades consumidas de LCD: 5\n",
      "Unidades consumidas de TAMPA C: 4\n",
      "Unidades consumidas de TAMPA D: 1\n",
      "Unidades consumidas de MEMÓRIA: 5\n",
      "Unidades consumidas de ADAPTADOR: 1\n",
      "Unidades consumidas de SSD: 3\n"
     ]
    }
   ],
   "source": [
    "import datetime\n",
    "\n",
    "hoje  = datetime.date.today()\n",
    "data_formatada = hoje.strftime ('%d/%m/%Y')\n",
    "\n",
    "estoque_uso = [6, 5, 2, 5, 4, 1, 5 ,1 ,3]\n",
    "material_uso = ['PLM','HD', 'Bateria', 'LCD', 'Tampa C', 'Tampa D', 'Memória', 'Adaptador', 'SSD']\n",
    "\n",
    "qtde_uso = len(material_uso)\n",
    "\n",
    "print (f'Produção de {data_formatada}\\n------------------')\n",
    "for i in range (qtde_uso):\n",
    "    print (f'Unidades consumidas de {material_uso[i].upper()}: {estoque_uso[i]}')"
   ]
  }
 ],
 "metadata": {
  "kernelspec": {
   "display_name": "Python 3",
   "language": "python",
   "name": "python3"
  },
  "language_info": {
   "codemirror_mode": {
    "name": "ipython",
    "version": 3
   },
   "file_extension": ".py",
   "mimetype": "text/x-python",
   "name": "python",
   "nbconvert_exporter": "python",
   "pygments_lexer": "ipython3",
   "version": "3.6.13"
  }
 },
 "nbformat": 4,
 "nbformat_minor": 5
}
