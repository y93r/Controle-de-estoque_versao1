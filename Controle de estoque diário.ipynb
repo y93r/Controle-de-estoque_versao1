{
 "cells": [
  {
   "cell_type": "markdown",
   "id": "04484f82",
   "metadata": {},
   "source": [
    "## Controle de estoque diário"
   ]
  },
  {
   "cell_type": "code",
   "execution_count": null,
   "id": "90c8ecf1",
   "metadata": {},
   "outputs": [
    {
     "name": "stdout",
     "output_type": "stream",
     "text": [
      "Deseja iniciar o relatório agra? S para sim e N para não. s\n",
      "Digite a peça utilizada: plm\n",
      "Digite de qual modelo foi utilizado: y93\n",
      "Digite a quantidade utilizada: 10\n",
      "Deseja incluir mais uma peça? S para sim e N para não. s\n",
      "Digite a peça utilizada: tampa c\n",
      "Digite de qual modelo foi utilizado: y2000\n",
      "Digite a quantidade utilizada: 5\n",
      "Deseja incluir mais uma peça? S para sim e N para não. s\n",
      "Digite a peça utilizada: adaptador\n",
      "Digite de qual modelo foi utilizado: y2000z\n",
      "Digite a quantidade utilizada: 2\n",
      "Deseja incluir mais uma peça? S para sim e N para não. s\n",
      "Digite a peça utilizada: lcd\n",
      "Digite de qual modelo foi utilizado: y3000\n",
      "Digite a quantidade utilizada: 5\n",
      "Deseja incluir mais uma peça? S para sim e N para não. s\n"
     ]
    }
   ],
   "source": [
    "import datetime\n",
    "\n",
    "hoje  = datetime.date.today()\n",
    "data_formatada = hoje.strftime ('%d/%m/%Y')\n",
    "\n",
    "check = input (\"Deseja iniciar o relatório agra? S para sim e N para não. \").casefold()                \n",
    "\n",
    "pedidos_hj = []\n",
    "check = 's'\n",
    "i = 0\n",
    "\n",
    "while i == 0:\n",
    "    if check == 's':\n",
    "        peca_pedida = input (\"Digite a peça utilizada: \").title().strip()\n",
    "        modelo_pedido = input (\"Digite de qual modelo foi utilizado: \").strip().upper()\n",
    "        qtde_pedida = int(input(\"Digite a quantidade utilizada: \"))\n",
    "        pedidos_hj.append((peca_pedida, modelo_pedido, qtde_pedida))\n",
    "        check = input (\"Deseja incluir mais uma peça? S para sim e N para não. \").casefold()\n",
    "        \n",
    "        \n",
    "    else:\n",
    "   \n",
    "        if check == 'n':\n",
    "            print ('\\n')\n",
    "            i+=1\n",
    "        \n",
    "        else:\n",
    "            print(\"Opa! Digite apenas 'n' ou 's'!\")\n",
    "            check = input (\"Deseja incluir mais uma peça? S para sim e N para não. \").casefold()\n",
    "            break   "
   ]
  },
  {
   "cell_type": "code",
   "execution_count": 26,
   "id": "ad1282d1",
   "metadata": {},
   "outputs": [
    {
     "name": "stdout",
     "output_type": "stream",
     "text": [
      "\n",
      "      Consumo de 17/07/2022\n",
      "-----------------------------------\n",
      "PEÇA        MODELO       QTDE\n",
      "-----------------------------------\n",
      "Plm          Y93          10\n",
      "Lcd          Y2000         7\n",
      "Tampa C      Y2000Z        5\n",
      "Bateria      Y3000         4\n",
      "Adaptador    Y3000P        5\n"
     ]
    }
   ],
   "source": [
    "print ('\\n      Consumo de {:<8}'.format(data_formatada))\n",
    "print ('-'*35)\n",
    "print ('PEÇA        MODELO       QTDE')          \n",
    "print ('-'*35)                        \n",
    "for peca_pedida,modelo_pedido,qtde_pedida in pedidos_hj:   \n",
    "    print ('{:<11}  {:<7} {:>7}'.format(peca_pedida,modelo_pedido,qtde_pedida))"
   ]
  },
  {
   "cell_type": "code",
   "execution_count": null,
   "id": "da43cb25",
   "metadata": {},
   "outputs": [],
   "source": []
  }
 ],
 "metadata": {
  "kernelspec": {
   "display_name": "Python 3",
   "language": "python",
   "name": "python3"
  },
  "language_info": {
   "codemirror_mode": {
    "name": "ipython",
    "version": 3
   },
   "file_extension": ".py",
   "mimetype": "text/x-python",
   "name": "python",
   "nbconvert_exporter": "python",
   "pygments_lexer": "ipython3",
   "version": "3.6.13"
  }
 },
 "nbformat": 4,
 "nbformat_minor": 5
}
