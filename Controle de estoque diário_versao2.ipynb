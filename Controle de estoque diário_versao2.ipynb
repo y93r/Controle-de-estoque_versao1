{
 "cells": [
  {
   "cell_type": "code",
   "execution_count": 4,
   "id": "c49a86a0",
   "metadata": {},
   "outputs": [
    {
     "name": "stdout",
     "output_type": "stream",
     "text": [
      "Deseja iniciar o relatório agora? S para sim e N para não. s\n",
      "Digite a peça utilizada: PLM\n",
      "Digite de qual modelo foi utilizado: \n",
      "Digite apenas um dos valores válidos: y93, y2000, y2000z, y3000, y3000plus\n",
      "Digite de qual modelo foi utilizado: y93\n",
      "Digite a quantidade utilizada: 10\n",
      "Deseja incluir mais uma peça? S para sim e N para não. s\n",
      "Digite a peça utilizada: LCD\n",
      "Digite de qual modelo foi utilizado: y2000\n",
      "Digite a quantidade utilizada: 5\n",
      "Deseja incluir mais uma peça? S para sim e N para não. n\n",
      "\n",
      "       Consumo de 23/06/2022     \n",
      "----------------------------------------\n",
      "PEÇA        MODELO     QTDE\n",
      "----------------------------------------\n",
      "PLM         y93        10 \n",
      "LCD         y2000      5  \n"
     ]
    }
   ],
   "source": [
    "def ler_opcao(mensagem, valores=('s', 'n', 'S', 'N')):\n",
    "    while True:\n",
    "        opcao = input(mensagem)\n",
    "        if opcao in valores:\n",
    "            return opcao\n",
    "        else:\n",
    "            print(f'Digite apenas um dos valores válidos: {\", \".join(valores)}')\n",
    " \n",
    " \n",
    "def ler_numero(mensagem):\n",
    "    while True:\n",
    "        try:\n",
    "            n = int(input(mensagem))\n",
    "            if n <= 0:\n",
    "                print('A quantidade não pode ser negativa')\n",
    "            else:\n",
    "                return n\n",
    "        except ValueError: # se não digitar um número, dá erro e cai aqui\n",
    "            print('Digite um número')\n",
    " \n",
    " \n",
    "from datetime import date\n",
    "import sys\n",
    " \n",
    "check = ler_opcao(\"Deseja iniciar o relatório agora? S para sim e N para não. \")\n",
    "if check == 'n':\n",
    "    sys.exit(0) # se não quer, sai do programa\n",
    " \n",
    "\n",
    "pecas = ['PLM','HD', 'Bateria', 'LCD', 'Tampa C', 'Tampa D', 'Memória', 'Adaptador','SSD']\n",
    "modelos = ['y93', 'y2000', 'y2000z','y3000', 'y3000p']\n",
    "pedidos_hj = []\n",
    "while True:\n",
    "    peca_pedida = ler_opcao(\"Digite a peça utilizada: \", pecas)\n",
    "    modelo_pedido = ler_opcao(\"Digite de qual modelo foi utilizado: \", modelos)\n",
    "    qtde_pedida = ler_numero(\"Digite a quantidade utilizada: \")\n",
    "    \n",
    "    pedidos_hj.append((peca_pedida, modelo_pedido, qtde_pedida))\n",
    "    if ler_opcao(\"Deseja incluir mais uma peça? S para sim e N para não. \") == 'n':\n",
    "        break # se digitou 'n', sai do while\n",
    "print ('\\n       Consumo de {:<10}'.format(date.today().strftime('%d/%m/%Y')))\n",
    "print ('-'*35)\n",
    "print ('PEÇA        MODELO       QTDE')\n",
    "print ('-'*35)\n",
    "for peca, modelo, qtd in pedidos_hj:\n",
    "    print (f'{peca:<10}  {modelo:<8}  {qtd:>5}')"
   ]
  },
  {
   "cell_type": "code",
   "execution_count": 2,
   "id": "c4451895",
   "metadata": {},
   "outputs": [
    {
     "name": "stdout",
     "output_type": "stream",
     "text": [
      "Deseja iniciar o relatório agra? S para sim e N para não. s\n",
      "Digite a peça utilizada: plm\n",
      "Digite de qual modelo foi utilizado: y93\n",
      "Digite a quantidade utilizada: 10\n",
      "Deseja incluir mais uma peça? S para sim e N para não. n\n",
      "\n",
      "\n",
      "----------------------------------------\n",
      "PEÇA        MODELO     QTDE\n",
      "----------------------------------------\n",
      "PLM         Y93        10 \n"
     ]
    }
   ],
   "source": []
  },
  {
   "cell_type": "code",
   "execution_count": null,
   "id": "5378493d",
   "metadata": {},
   "outputs": [],
   "source": []
  }
 ],
 "metadata": {
  "kernelspec": {
   "display_name": "Python 3",
   "language": "python",
   "name": "python3"
  },
  "language_info": {
   "codemirror_mode": {
    "name": "ipython",
    "version": 3
   },
   "file_extension": ".py",
   "mimetype": "text/x-python",
   "name": "python",
   "nbconvert_exporter": "python",
   "pygments_lexer": "ipython3",
   "version": "3.6.13"
  }
 },
 "nbformat": 4,
 "nbformat_minor": 5
}
